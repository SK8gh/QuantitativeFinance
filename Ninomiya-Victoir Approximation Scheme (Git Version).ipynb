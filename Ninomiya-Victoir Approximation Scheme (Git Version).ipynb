{
 "cells": [
  {
   "cell_type": "markdown",
   "metadata": {},
   "source": [
    "### Introduction\n",
    "\n",
    "In this program, we will implement the Ninomiya-Victoir approximation scheme for stochastic differential equations in order to price financial derivatives in a Heston model context, using Monte-Carlo methods\n",
    "\n",
    "\n",
    "The Ninomiya-Victoir scheme is defined as follows, on the idea of scheme composition :\n",
    "\n",
    "$Z_k = (Z^1_k, ... , Z^d_k) , Z^i_k \\sim N(0,1)$\n",
    "\n",
    "$(\\Lambda_k)_{k}$ Rademacher variables, verifying :\n",
    "$\\mathbb{P}(\\Lambda = 1 ) = \\mathbb{P}(\\Lambda = -1 ) = \\frac{1}{2}$\n",
    "\n",
    "$X^n_{k+1} = $ exp$(\\frac{1}{2n}V_0 ) \\circ $ exp$(\\frac{Z^d_k}{\\sqrt n}V_1 ) \\circ $  ...  $  \\circ $ exp$(\\frac{Z^1_k}{\\sqrt{n}}V_d) $ $\\circ $ exp$(\\frac{1}{2n}V_0 )(X^n_{k} )  $   $\\textbf{ $\\Lambda_k = 1$} $\n",
    "\n",
    "$ $     = exp$(\\frac{1}{2n}V_0 ) \\circ $ exp$(\\frac{Z^d_k}{\\sqrt n}V_d ) \\circ $  ...  $  \\circ $ exp$(\\frac{Z^1_k}{\\sqrt{n}}V_1) $ $\\circ $ exp$(\\frac{1}{2n}V_0)(X_k^n)  $    $\\textbf{ $\\Lambda_k = -1$} $"
   ]
  },
  {
   "cell_type": "markdown",
   "metadata": {},
   "source": [
    " "
   ]
  },
  {
   "cell_type": "markdown",
   "metadata": {},
   "source": [
    "The $exp(\\frac{Z}{\\sqrt n}V_i )$ functions are solutions to some ordinary differential equations. \n",
    "\n",
    "The scheme is defined by induction. To get the following value of the stochastic process we want to approximate, we -simply- have to pass the present state ($X_k^n$) in a composed function or another, depending on some Rademacher random variable\n",
    "\n",
    "This scheme weakly converges at order 2, meaning that for greater values of $n$ (the number of steps in the scheme) its weak error converges as $\\frac{C}{n^2}$. In comparaison, the Euler scheme only weakly converges at order 1"
   ]
  },
  {
   "cell_type": "markdown",
   "metadata": {},
   "source": [
    " \n"
   ]
  },
  {
   "cell_type": "markdown",
   "metadata": {},
   "source": [
    "To summarize, this scheme provides us with the possibility to generate trajectories of a process which approximates in a satisfying way (in the sense of the weak error) an asset price in the Heston model context. (We could approximate any other model)\n",
    "\n",
    "Thus, we can apply Monte-Carlo methods to price any product where the payoff at maturity can be written as a function of the quantities we approximate (here, the asset price and its volatility) until the maturity"
   ]
  },
  {
   "cell_type": "markdown",
   "metadata": {},
   "source": [
    " "
   ]
  },
  {
   "cell_type": "markdown",
   "metadata": {},
   "source": [
    "For further details on the notations, framework, follow this link to a pdf explaining everything\n",
    "\n",
    "https://www.linkedin.com/in/j%C3%A9r%C3%A9mie-ohana-74877a1b6/detail/overlay-view/urn:li:fsd_profileTreasuryMedia:(ACoAADJNsqgBPX6WXUQZFi98pnsnn7Pr6Qq7TRo,1635463669015)/"
   ]
  },
  {
   "cell_type": "code",
   "execution_count": 2,
   "metadata": {},
   "outputs": [],
   "source": [
    "# Imports\n",
    "\n",
    "import matplotlib.pyplot as plt\n",
    "import numpy as np\n",
    "import time"
   ]
  },
  {
   "cell_type": "code",
   "execution_count": 3,
   "metadata": {},
   "outputs": [],
   "source": [
    "# Does the Feller condition holds ?\n",
    "\n",
    "def condition_parameters(theta, kappa, xi):\n",
    "    if 2*theta*kappa - xi**2 > 0:\n",
    "        print(\"Feller condition holds for\")\n",
    "        print(\"theta = \", theta, \" kappa = \", kappa, \" xi = \", xi)\n",
    "        return(True)\n",
    "    else:\n",
    "        print(\"Feller condition does not hold !\")\n",
    "        return(False)"
   ]
  },
  {
   "cell_type": "code",
   "execution_count": 4,
   "metadata": {},
   "outputs": [],
   "source": [
    "# The following function is just a helpful function to compose a bunch of functions, which we will be doing\n",
    "\n",
    "# if reverse_order is False, we compose the functions in the usual way\n",
    "\n",
    "def compose_functions(x,reverse_order=False,*args):\n",
    "    for arg in args:\n",
    "        if callable(arg):\n",
    "            pass\n",
    "        else:\n",
    "            print(arg)\n",
    "            raise Exception(\"One or multiple arguments is not a function\")\n",
    "    \n",
    "    # Usual way to compose (last one first)\n",
    "    if reverse_order == False:\n",
    "        # We initialize y as the image of the first function of *args\n",
    "        y = args[-1](x)\n",
    "        \n",
    "        # And then we iterate through *args\n",
    "        for k in range(2,len(args)+1):\n",
    "            y = args[-k](y)\n",
    "        return(y)\n",
    "    \n",
    "    if reverse_order == True:\n",
    "        # We initialize y as the image of the first function of *args\n",
    "        y = args[0](x)\n",
    "\n",
    "        # And then we iterate through *args\n",
    "        for k in range(1,len(args)):\n",
    "            y = args[k](y)\n",
    "        return(y)\n",
    "\n",
    "    else:\n",
    "        raise Exception(\"Argument 'reverse_order' has to be a bool\")"
   ]
  },
  {
   "cell_type": "code",
   "execution_count": 5,
   "metadata": {},
   "outputs": [],
   "source": [
    "class Heston():\n",
    "    def __init__(self, mu_, theta_, xi_, kappa_, rho_):\n",
    "        self.mu = mu_\n",
    "        self.theta = theta_\n",
    "        self.xi = xi_\n",
    "        self.kappa = kappa_\n",
    "        self.rho = rho_\n",
    "        \n",
    "    def NV(self, T, number_steps, spot, vol_spot):\n",
    "        # Uniform grid\n",
    "        grid = np.linspace(0,T,number_steps)\n",
    "        \n",
    "        J = self.theta - (self.xi**2 / 4*self.kappa)\n",
    "                \n",
    "        stock, volatility = [spot], [vol_spot]\n",
    "        \n",
    "        def phi0(y):\n",
    "            \n",
    "            U = ((J - y[1]) / (2 * kappa))\n",
    "            s0 = (1 - np.exp(- kappa / (2 * number_steps)))\n",
    "            s1 = (self.mu - (J / 2)) / (2 * number_steps)\n",
    "            r = y[0] * np.exp(U * s0 + s1)\n",
    "            \n",
    "            r2 = J + (y[1] - J)*(np.exp(- self.kappa / (2*number_steps)))\n",
    "            return(r,r2)\n",
    "\n",
    "        def phi1(y):\n",
    "            Z = np.random.normal(0,1)\n",
    "            r = y[0] * np.exp((Z / np.sqrt(number_steps)) * np.sqrt(y[1] * (1 - (self.rho**2))))\n",
    "            \n",
    "            r2 = y[1]\n",
    "            return(r,r2)\n",
    "\n",
    "        def phi2(y):\n",
    "            Z = np.random.normal(0,1)\n",
    "            s0 = (self.rho * self.xi * Z**2)/(4*number_steps)\n",
    "            s1 = (self.rho * np.sqrt(y[1]) * Z)/(np.sqrt(number_steps))\n",
    "            r = y[0] * np.exp(s0 + s1)\n",
    "            \n",
    "            s2 = self.xi * Z / (2 * np.sqrt(number_steps))\n",
    "            s3 = np.sqrt(y[1])\n",
    "            r2 = (s2 + s3)**2\n",
    "            return(r, r2)\n",
    "        \n",
    "        # return_bool is returned if the volatility becomes positive, such that no Exception is raised\n",
    "        return_bool = True\n",
    "        \n",
    "        for k in range(number_steps):\n",
    "            \n",
    "            # Is the previous volatility positive? \n",
    "            old_vol = volatility[-1]\n",
    "            if old_vol < 0:\n",
    "                return_bool = False\n",
    "                break\n",
    "            \n",
    "            rademecher = np.random.binomial(1,0.5)\n",
    "            old_values = (stock[-1],volatility[-1])\n",
    "            \n",
    "            if rademecher == 0:\n",
    "                next_ = compose_functions(old_values,False, phi0, phi1, phi2)\n",
    "        \n",
    "            elif rademecher == 1:\n",
    "                next_ = compose_functions(old_values,True, phi0, phi1, phi2)\n",
    "        \n",
    "            else:\n",
    "                print(\"The Rademecher variable took an unexpected value\")\n",
    "                pass\n",
    "            \n",
    "            stock.append(next_[0])\n",
    "            volatility.append(next_[1])\n",
    "            \n",
    "        if return_bool:\n",
    "            return(stock,volatility)\n",
    "        else:\n",
    "            print(\"The volatility became negative\")\n",
    "            return(None,None)"
   ]
  },
  {
   "cell_type": "code",
   "execution_count": 6,
   "metadata": {},
   "outputs": [
    {
     "name": "stdout",
     "output_type": "stream",
     "text": [
      "Feller condition holds for\n",
      "theta =  0.2  kappa =  0.15  xi =  0.2\n"
     ]
    }
   ],
   "source": [
    "mu, theta, xi, kappa, rho = 0.1, 0.2, 0.2, 0.15, 0.3\n",
    "\n",
    "condition_parameters(theta, kappa, xi)\n",
    "\n",
    "model = Heston(mu, theta, xi, kappa, rho)"
   ]
  },
  {
   "cell_type": "markdown",
   "metadata": {},
   "source": [
    "### Ninomiya-Victoir"
   ]
  },
  {
   "cell_type": "code",
   "execution_count": 10,
   "metadata": {},
   "outputs": [],
   "source": [
    "horizon, number_steps, spot, vol_spot = 1, 1000, 100, 0.1\n",
    "\n",
    "stockNV, volatilityNV = model.NV(horizon, number_steps, spot, vol_spot)"
   ]
  },
  {
   "cell_type": "code",
   "execution_count": 11,
   "metadata": {},
   "outputs": [
    {
     "data": {
      "image/png": "[encoded data removed]",
      "text/plain": [
       "<Figure size 432x288 with 1 Axes>"
      ]
     },
     "metadata": {
      "needs_background": "light"
     },
     "output_type": "display_data"
    },
    {
     "data": {
      "image/png": "[encoded data removed]",
      "text/plain": [
       "<Figure size 432x288 with 1 Axes>"
      ]
     },
     "metadata": {
      "needs_background": "light"
     },
     "output_type": "display_data"
    }
   ],
   "source": [
    "plt.plot(stockNV,color='purple')\n",
    "plt.title('Schéma de Ninomiya-Victoir, Asset Price')\n",
    "plt.show()\n",
    "\n",
    "plt.plot(volatilityNV,color='purple')\n",
    "plt.title('Volatility')\n",
    "plt.show()"
   ]
  },
  {
   "cell_type": "markdown",
   "metadata": {},
   "source": [
    "### Call Pricing, Monte-Carlo Method"
   ]
  },
  {
   "cell_type": "code",
   "execution_count": 31,
   "metadata": {},
   "outputs": [],
   "source": [
    "# Defining every parameter we need for this pricing experiment\n",
    "\n",
    "horizon, spot, vol_spot = 1, 100, 0.05\n",
    "\n",
    "rho, mu, xi, kappa, theta = 0.3, 0.1, 0.3, 0.1, 0.05\n",
    "\n",
    "test_number_simulations = 10000\n",
    "test_number_steps = 20\n",
    "\n",
    "strike = 100"
   ]
  },
  {
   "cell_type": "code",
   "execution_count": 18,
   "metadata": {},
   "outputs": [],
   "source": [
    "def call_value(x, strike):\n",
    "    if x > strike:\n",
    "        return(x - strike)\n",
    "    else:\n",
    "        return(0)\n",
    "\n",
    "def call_estimate(number_simulations_, strike_, horizon_, spot_, vol_spot_,\n",
    "                 rho_, mu_, xi_, kappa_, theta_, number_steps_):\n",
    "    \n",
    "    call_matrix = np.zeros([number_simulations_])\n",
    "    modelMC = Heston(mu_, theta_, xi_, kappa_, rho_)\n",
    "    \n",
    "    discount_factor = np.exp( - mu_ * horizon)\n",
    "    \n",
    "    for i in range(number_simulations_):\n",
    "        stock_price, vol_sample = modelMC.NV(horizon_, number_steps_, spot_, vol_spot_)\n",
    "        \n",
    "        call_val = call_value(stock_price[-1], strike_)\n",
    "        \n",
    "        call_matrix[i] = discount_factor * call_val\n",
    "        \n",
    "    return(call_matrix)"
   ]
  },
  {
   "cell_type": "code",
   "execution_count": 19,
   "metadata": {},
   "outputs": [],
   "source": [
    "start_time = time.time()\n",
    "\n",
    "call_estimation_matrix = call_estimate(test_number_simulations, strike, horizon, spot, vol_spot,\n",
    "                 rho, mu, xi, kappa, theta, test_number_steps)\n",
    "\n",
    "end_time = time.time()"
   ]
  },
  {
   "cell_type": "code",
   "execution_count": 20,
   "metadata": {},
   "outputs": [
    {
     "name": "stdout",
     "output_type": "stream",
     "text": [
      "Call value =  13.26552 +/- 0.42314\n"
     ]
    }
   ],
   "source": [
    "ecart_type_call = np.std(call_estimation_matrix)\n",
    "erreur_call = 1.96 * ecart_type_call / np.sqrt(test_number_simulations)\n",
    "estimation_call = np.mean(call_estimation_matrix)\n",
    "    \n",
    "print(\"Call value = \",np.around(estimation_call, 5),'+/-', np.around(erreur_call, 5))"
   ]
  },
  {
   "cell_type": "markdown",
   "metadata": {},
   "source": [
    "### Variance Reduction, Put pricing"
   ]
  },
  {
   "cell_type": "markdown",
   "metadata": {},
   "source": [
    "The purpose of this section is to show (empirically) that it is faster to price a call by pricing a put and deducing the call value using the call put parity"
   ]
  },
  {
   "cell_type": "code",
   "execution_count": 25,
   "metadata": {},
   "outputs": [],
   "source": [
    "# arguments are listed with an underscore to make sure the function doesn't use previously defined parameters\n",
    "\n",
    "def put_value(x, strike):\n",
    "    if x < strike:\n",
    "        return(strike - x)\n",
    "    else:\n",
    "        return(0)\n",
    "\n",
    "def put_estimate(number_simulations_, strike_, horizon_, spot_, vol_spot_,\n",
    "                 rho_, mu_, xi_, kappa_, theta_, number_steps_):\n",
    "    \n",
    "    put_matrix = np.zeros([number_simulations_])\n",
    "    modelMC = Heston(mu_, theta_, xi_, kappa_, rho_)\n",
    "    \n",
    "    discount_factor = np.exp( - mu_ * horizon)\n",
    "    \n",
    "    for i in range(number_simulations_):\n",
    "        stock_price, vol_sample = modelMC.NV(horizon_, number_steps_, spot_, vol_spot_)\n",
    "        \n",
    "        put_val = put_value(stock_price[-1], strike_)\n",
    "        \n",
    "        put_matrix[i] = discount_factor * put_val\n",
    "        \n",
    "    return(put_matrix)"
   ]
  },
  {
   "cell_type": "code",
   "execution_count": 26,
   "metadata": {},
   "outputs": [],
   "source": [
    "put_estimation_matrix = put_estimate(test_number_simulations, strike, horizon, spot, vol_spot,\n",
    "                 rho, mu, xi, kappa, theta, test_number_steps)"
   ]
  },
  {
   "cell_type": "code",
   "execution_count": 28,
   "metadata": {},
   "outputs": [
    {
     "name": "stdout",
     "output_type": "stream",
     "text": [
      "Standard deviation call :  21.588693652611788\n",
      "Standard deviation put :  8.713926267691026\n"
     ]
    }
   ],
   "source": [
    "print(\"Standard deviation call : \",ecart_type_call)\n",
    "print(\"Standard deviation put : \",ecart_type_put)"
   ]
  },
  {
   "cell_type": "markdown",
   "metadata": {},
   "source": [
    "## Options Asiatique\n",
    "\n",
    "On va pricer par une méthode de Monte-Carlo l'option asiatique, donc le payoff à l'échéance est donné par :\n",
    "\n",
    "$(K - \\underset{k}{min} S_{t_k})_+$"
   ]
  },
  {
   "cell_type": "code",
   "execution_count": 32,
   "metadata": {},
   "outputs": [],
   "source": [
    "def PayoffAsiat(trajectory_, strike_):\n",
    "    min_price = np.min(trajectory_)\n",
    "    \n",
    "    if strike_ > min_price:\n",
    "        return(strike_ - min_price)\n",
    "    else:\n",
    "        return(0)"
   ]
  },
  {
   "cell_type": "code",
   "execution_count": 33,
   "metadata": {},
   "outputs": [],
   "source": [
    "monte_carlo_simulations = 1000\n",
    "strike = 100"
   ]
  },
  {
   "cell_type": "code",
   "execution_count": 34,
   "metadata": {},
   "outputs": [],
   "source": [
    "def AsiatEstimate(monte_carlo_simulations_, strike_, horizon_, spot_, vol_spot_,\n",
    "                  rho_, mu_, theta_, xi_, kappa_, number_steps_):\n",
    "    \n",
    "    option_value_list = []\n",
    "    \n",
    "    modelMC = Heston(mu_, theta_, xi_, kappa_, rho_)\n",
    "    \n",
    "    for k in range(monte_carlo_simulations_):\n",
    "        stock_price, vol_sample = modelMC.NV(horizon_, number_steps_, spot_, vol_spot_)\n",
    "        \n",
    "        payoff = PayoffAsiat(stock_price, strike_)\n",
    "        \n",
    "        option_value_list.append(payoff)\n",
    "        \n",
    "    return(option_value_list)"
   ]
  },
  {
   "cell_type": "code",
   "execution_count": 35,
   "metadata": {},
   "outputs": [],
   "source": [
    "asiat_option_sample = AsiatEstimate(monte_carlo_simulations, strike, horizon, spot, vol_spot,\n",
    "                 rho, mu, theta, xi, kappa, test_number_steps)"
   ]
  },
  {
   "cell_type": "code",
   "execution_count": 36,
   "metadata": {},
   "outputs": [
    {
     "name": "stdout",
     "output_type": "stream",
     "text": [
      "Strike = 100\n",
      "Number of samples :  1000\n",
      "\n",
      "Asiatic Option Price :  10.509895632037601 +- 0.6022292740604827\n"
     ]
    }
   ],
   "source": [
    "ecart_type = np.std(asiat_option_sample)\n",
    "erreur = 1.96 * ecart_type / np.sqrt(monte_carlo_simulations)    \n",
    "estimation = np.mean(asiat_option_sample)\n",
    "print(\"Strike =\",strike)\n",
    "print(\"Number of samples : \",monte_carlo_simulations)\n",
    "print(\"\")\n",
    "print(\"Asiatic Option Price : \", estimation,'+-', erreur)"
   ]
  },
  {
   "cell_type": "markdown",
   "metadata": {},
   "source": [
    "### Scheme Convergence\n",
    "\n",
    "Using a technique that is not shown in this Notebook, we can demonstrate empirically the convergence of the Ninomiya-Victoir scheme. For detailled explanations, check the link in the introduction"
   ]
  },
  {
   "cell_type": "code",
   "execution_count": 155,
   "metadata": {},
   "outputs": [
    {
     "data": {
      "text/plain": [
       "<matplotlib.legend.Legend at 0x11689c970>"
      ]
     },
     "execution_count": 155,
     "metadata": {},
     "output_type": "execute_result"
    },
    {
     "data": {
      "image/png": "[encoded data removed]",
      "text/plain": [
       "<Figure size 432x288 with 1 Axes>"
      ]
     },
     "metadata": {
      "needs_background": "light"
     },
     "output_type": "display_data"
    }
   ],
   "source": [
    "fig, ax = plt.subplots()\n",
    "ax.plot(abs_, vect2, color='blue',label='Put value as a function of the scheme number of steps')\n",
    "ax.fill_between(abs_, sup, inf, alpha=0.2, color='purple',label='95% confidence interval')\n",
    "ax.legend(loc='lower right')"
   ]
  },
  {
   "cell_type": "code",
   "execution_count": null,
   "metadata": {},
   "outputs": [],
   "source": []
  }
 ],
 "metadata": {
  "kernelspec": {
   "display_name": "Python 3",
   "language": "python",
   "name": "python3"
  },
  "language_info": {
   "codemirror_mode": {
    "name": "ipython",
    "version": 3
   },
   "file_extension": ".py",
   "mimetype": "text/x-python",
   "name": "python",
   "nbconvert_exporter": "python",
   "pygments_lexer": "ipython3",
   "version": "3.8.5"
  }
 },
 "nbformat": 4,
 "nbformat_minor": 4
}
